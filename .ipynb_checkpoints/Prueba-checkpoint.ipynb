{
 "cells": [
  {
   "cell_type": "markdown",
   "id": "d3d6e3c1",
   "metadata": {},
   "source": [
    "Estrategias y planteamientos:"
   ]
  },
  {
   "cell_type": "markdown",
   "id": "6550c6c1",
   "metadata": {},
   "source": [
    "Al ver el problema y los datos que se daba, pensé en solucionarlo de diversas maneras, siendo estas principalmente entrenar una IA a través de etiquetas ya puestas, definir un número de grupo y que la IA sortée, o en un modelo de NLP establecer las entidades para que los mails se categorizasen en base a la interpretación de este. Al hablar con rrhh por la dirección ala que debería ir, me dijeron que era mejor si mostraba más mis conocimientos y habilidades, e imagine que por la descripción del puesto sería el más adecuado. Me he decantado por usar sklearn pues es una biblioteca de aprendizaje automático de Python con varios algoritmos y es sencillo y eficiente a la hora de usarlo."
   ]
  },
  {
   "cell_type": "markdown",
   "id": "c4e7bd5f",
   "metadata": {},
   "source": [
    "He decidido estructurar en dos el código, tenemos por un lado el modelo.py, que se lanza de forma manual para que se cree y entrene el categorizador de forma previa y así evitar el tiempo de espera por respuesta que recibamos, y la API, que, tras recibir una llamada, comprueba si es de alguien que sea o no fraudulento y en caso de que no lo sea categoriza y devuelve esta(s) como respuesta. "
   ]
  },
  {
   "cell_type": "markdown",
   "id": "d3eb61b5",
   "metadata": {},
   "source": [
    "He decidido dividirlo en estas distintas categorias, \"Facturas\", \"Problemas tecnicos\", \"Energia\", \"Gas\" y \"Contrato\", ya que cada cual contiene suficientes muestras. Consideré añadir \"Lecturas\" dentro pero la falta de correos de ese tipo me llevó a no hacerlo. En caso de haber usado PNL lo hubiese añadido como categoria con sus entidades, pero al ser ML simplemente añadiria datos no deseables.\n"
   ]
  },
  {
   "cell_type": "markdown",
   "id": "621f3c0e",
   "metadata": {},
   "source": [
    "Ahora, pasando al análisis de datos, nos conectaremos a la BBDD y buscaremos los distintos correos por categorias para buscar correlación."
   ]
  },
  {
   "cell_type": "code",
   "execution_count": null,
   "id": "bbf5b61e",
   "metadata": {
    "vscode": {
     "languageId": "plaintext"
    }
   },
   "outputs": [],
   "source": [
    "import joblib\n",
    "import mysql.connector\n",
    "\n",
    "conexion = mysql.connector.connect(\n",
    "    host='db',\n",
    "    user='root',\n",
    "    password='root',\n",
    "    database='atc'\n",
    ")\n",
    "\n",
    "cursor = conexion.cursor()"
   ]
  },
  {
   "cell_type": "code",
   "execution_count": null,
   "id": "eda2757e",
   "metadata": {
    "vscode": {
     "languageId": "plaintext"
    }
   },
   "outputs": [],
   "source": [
    "consulta =  '''\n",
    "            SELECT fecha_envio, email\n",
    "            FROM email\n",
    "            INNER JOIN impagos ON email.client_id = impagos.client_id\n",
    "            ''' \n",
    "\n",
    "cursor.execute(consulta, (client_id,))\n",
    "resultado = cursor.fetchall()\n",
    "print(resultado)"
   ]
  },
  {
   "cell_type": "code",
   "execution_count": null,
   "id": "b7d44010",
   "metadata": {
    "vscode": {
     "languageId": "plaintext"
    }
   },
   "outputs": [],
   "source": [
    "cursor.close()\n",
    "conexion.close()"
   ]
  }
 ],
 "metadata": {
  "kernelspec": {
   "display_name": "Python 3 (ipykernel)",
   "language": "python",
   "name": "python3"
  },
  "language_info": {
   "codemirror_mode": {
    "name": "ipython",
    "version": 3
   },
   "file_extension": ".py",
   "mimetype": "text/x-python",
   "name": "python",
   "nbconvert_exporter": "python",
   "pygments_lexer": "ipython3",
   "version": "3.11.7"
  }
 },
 "nbformat": 4,
 "nbformat_minor": 5
}
